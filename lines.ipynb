{
 "cells": [
  {
   "cell_type": "code",
   "execution_count": 18,
   "id": "0d495a3b",
   "metadata": {},
   "outputs": [
    {
     "data": {
      "text/plain": [
       "[PhysicalDevice(name='/physical_device:GPU:0', device_type='GPU')]"
      ]
     },
     "execution_count": 18,
     "metadata": {},
     "output_type": "execute_result"
    }
   ],
   "source": [
    "import itertools\n",
    "import importlib\n",
    "from functools import reduce, partial\n",
    "import operator\n",
    "\n",
    "import pennylane as qml\n",
    "from pennylane import numpy as np\n",
    "import numpy as nnp\n",
    "import matplotlib.pyplot as plt\n",
    "from sklearn.model_selection import train_test_split\n",
    "\n",
    "# import torch\n",
    "# torch.set_default_dtype(torch.float32)\n",
    "# mps_device = torch.device(\"mps\")\n",
    "# torch.set_default_device(mps_device)\n",
    "# from torchinfo import summary\n",
    "\n",
    "import tensorflow as tf\n",
    "from silence_tensorflow import silence_tensorflow\n",
    "tf.keras.backend.set_floatx('float32')\n",
    "tf.config.experimental.list_physical_devices('GPU')"
   ]
  },
  {
   "cell_type": "code",
   "execution_count": 19,
   "id": "a1af02b4",
   "metadata": {},
   "outputs": [],
   "source": [
    "# import warnings\n",
    "# import traceback\n",
    "\n",
    "# warnings.simplefilter(\"error\")\n",
    "# warnings.simplefilter(\"once\", category=qml.PennyLaneDeprecationWarning)"
   ]
  },
  {
   "cell_type": "code",
   "execution_count": 20,
   "id": "dd3203f7",
   "metadata": {},
   "outputs": [],
   "source": [
    "from src.layers import *"
   ]
  },
  {
   "cell_type": "code",
   "execution_count": 21,
   "id": "bab1d501",
   "metadata": {},
   "outputs": [],
   "source": [
    "SEED = 42\n",
    "nnp.random.seed(SEED)\n",
    "np.random.seed(SEED)\n",
    "# torch.manual_seed(42)\n",
    "tf.random.set_seed(SEED)"
   ]
  },
  {
   "cell_type": "markdown",
   "id": "99c74b30",
   "metadata": {},
   "source": [
    "# Data Generation"
   ]
  },
  {
   "cell_type": "code",
   "execution_count": 22,
   "id": "334f9ab3",
   "metadata": {},
   "outputs": [],
   "source": [
    "def generate_dataset_4(num_images: int, size: int = 4, noise: float = 0.15):\n",
    "    \"\"\"Generate a vertical horizontal left diagonal or right diagonal line on the grid and then add noise in to it\"\"\"\n",
    "    images = []\n",
    "    labels = []\n",
    "\n",
    "    for _ in range(num_images):\n",
    "        # Create a blank image\n",
    "        image = np.zeros((size, size), dtype=np.uint16)\n",
    "        # Randomly choose a line orientation\n",
    "        if np.random.rand() < 0.25:\n",
    "            # Vertical line\n",
    "            x = np.random.randint(0, size)\n",
    "            image[:, x] = 255\n",
    "            labels.append(0)  # Label for vertical line\n",
    "        elif np.random.rand() < 0.5:\n",
    "            # Horizontal line\n",
    "            y = np.random.randint(0, size)\n",
    "            image[y, :] = 255\n",
    "            labels.append(1)\n",
    "        elif np.random.rand() < 0.75:\n",
    "            # Left diagonal line\n",
    "            for j in range(size):\n",
    "                image[j, j] = 255\n",
    "            labels.append(2)\n",
    "        else:\n",
    "            # Right diagonal line\n",
    "            for j in range(size):\n",
    "                image[j, size - j - 1] = 255\n",
    "            labels.append(3)\n",
    "\n",
    "        # Add noise to the image\n",
    "        noise_matrix = np.random.normal(0, noise * 255, (size, size))\n",
    "        image = np.clip(image + noise_matrix, 0.0, 255.0)\n",
    "        images.append(image.astype(np.float32) / 255.0)\n",
    "\n",
    "    # one hot encode the labels\n",
    "    labels = np.array(labels)\n",
    "    labels = ((-1 * np.ones((4,4))) + (2 * np.eye(4)))[labels]\n",
    "    return nnp.array(images), nnp.array(labels).astype(nnp.float32)\n",
    "\n",
    "def generate_dataset_2(num_images: int, size: int = 4, noise: float = 0.15):\n",
    "    \"\"\"Generate a vertical or horizontal line on the grid and then add noise in to it\"\"\"\n",
    "    images = []\n",
    "    labels = []\n",
    "\n",
    "    for _ in range(num_images):\n",
    "        # Create a blank image\n",
    "        image = np.zeros((size, size), dtype=np.uint16)\n",
    "        # Randomly choose a line orientation\n",
    "        if np.random.rand() < 0.5:\n",
    "            # Vertical line\n",
    "            x = np.random.randint(0, size)\n",
    "            image[:, x] = 255\n",
    "            labels.append(-1.0)  # Label for vertical line\n",
    "        else:\n",
    "            # Horizontal line\n",
    "            y = np.random.randint(0, size)\n",
    "            image[y, :] = 255\n",
    "            labels.append(1.0)\n",
    "\n",
    "        # Add noise to the image\n",
    "        noise_matrix = np.random.normal(0, noise * 255, (size, size))\n",
    "        image = np.clip(image + noise_matrix, 0.0, 255.0)\n",
    "        images.append(image.astype(np.float32) / 255.0)\n",
    "\n",
    "    # one hot encode the labels\n",
    "    # labels = np.array(labels)\n",
    "    # labels = np.eye(2)[labels]\n",
    "    return nnp.array(images), nnp.array(labels).astype(nnp.float32)"
   ]
  },
  {
   "cell_type": "code",
   "execution_count": 23,
   "id": "43399685",
   "metadata": {},
   "outputs": [
    {
     "data": {
      "text/plain": [
       "(dtype('float32'), dtype('float32'))"
      ]
     },
     "execution_count": 23,
     "metadata": {},
     "output_type": "execute_result"
    }
   ],
   "source": [
    "images, labels = generate_dataset_2(120, noise=0.1)\n",
    "\n",
    "# Split the data\n",
    "train_images, test_images, train_labels, test_labels = train_test_split(\n",
    "    images, labels, test_size=0.3, random_state=42\n",
    ")\n",
    "# NOTE: Pennylane will freak out if the number of training images is not divisible by the batch size\n",
    "test_labels.dtype, test_images.dtype"
   ]
  },
  {
   "cell_type": "code",
   "execution_count": 24,
   "id": "d5f9a199",
   "metadata": {},
   "outputs": [
    {
     "data": {
      "image/png": "[encoded data removed]",
      "text/plain": [
       "<Figure size 1000x500 with 10 Axes>"
      ]
     },
     "metadata": {},
     "output_type": "display_data"
    }
   ],
   "source": [
    "plt.figure(figsize=(10, 5))\n",
    "for i in range(10):\n",
    "    plt.subplot(2, 5, i + 1)\n",
    "    plt.imshow(train_images[i].reshape(int(train_images.shape[1]), int(train_images.shape[2])), cmap='gray')\n",
    "    plt.title(f\"Label: {train_labels[i]}\")\n",
    "    plt.axis('off')\n",
    "plt.tight_layout()\n",
    "plt.show()"
   ]
  },
  {
   "cell_type": "code",
   "execution_count": 25,
   "id": "067ce93e",
   "metadata": {},
   "outputs": [],
   "source": [
    "train_images, test_images = nnp.array([hots_to_sv(img.flatten()) for img in train_images]), nnp.array([hots_to_sv(img.flatten()) for img in test_images])"
   ]
  },
  {
   "cell_type": "code",
   "execution_count": 26,
   "id": "010162bc",
   "metadata": {},
   "outputs": [
    {
     "data": {
      "text/plain": [
       "(tf.complex64,\n",
       " tf.float32,\n",
       " tf.complex64,\n",
       " tf.float32,\n",
       " '/job:localhost/replica:0/task:0/device:GPU:0',\n",
       " TensorShape([84, 65536]))"
      ]
     },
     "execution_count": 26,
     "metadata": {},
     "output_type": "execute_result"
    }
   ],
   "source": [
    "train_images, train_labels = tf.convert_to_tensor(train_images), tf.convert_to_tensor(train_labels)\n",
    "test_images, test_labels = tf.convert_to_tensor(test_images), tf.convert_to_tensor(test_labels)\n",
    "train_images.dtype, train_labels.dtype, test_images.dtype, test_labels.dtype, train_images.device, train_images.shape"
   ]
  },
  {
   "cell_type": "markdown",
   "id": "f5e6e2eb",
   "metadata": {},
   "source": [
    "# Creating Circuit"
   ]
  },
  {
   "cell_type": "code",
   "execution_count": 27,
   "id": "d7ac6339",
   "metadata": {},
   "outputs": [],
   "source": [
    "assert train_images.shape[1] ** 0.5 % 1 == 0, \"The input image size must be a perfect square\"\n",
    "B = 4\n",
    "N = 4\n",
    "w = N**2 # + B\n",
    "dev = qml.device(\"default.qubit\", wires=w)\n",
    "wire_arr = nnp.arange(N**2, dtype=nnp.int32).reshape(N, N)\n",
    "\n",
    "KERNEL_SIZE = 2\n",
    "KERNEL_LAYERS = 2 # two was working pretty well\n",
    "STRIDE = 1"
   ]
  },
  {
   "cell_type": "code",
   "execution_count": 28,
   "id": "c24c6c60",
   "metadata": {},
   "outputs": [],
   "source": [
    "# @partial(qml.batch_input, argnums=0) # this is really broken (need to file a pennylane issue)\n",
    "@partial(qml.batch_input, argnum=0)\n",
    "@qml.qnode(dev, interface='tf')\n",
    "def qnode(inputs, \n",
    "          first_kernel, first_pooling, \n",
    "          second_kernel, second_pooling, \n",
    "          # fc_weights, fc_bias\n",
    "):\n",
    "    # Input Layer\n",
    "    # for i, j in itertools.product(range(N), range(N)):\n",
    "    #     qml.RX(1.0 * np.pi * inputs[i, j], wires=wire_arr[i, j])\n",
    "    qml.StatePrep(inputs, wires=wire_arr.flatten(), validate_norm=False)\n",
    "    \n",
    "    # First Convolution Layer    \n",
    "    convolution_pooling_op(first_kernel, first_pooling, wire_arr, STRIDE)\n",
    "    reduced_wire_arr = wire_arr[1::2, 1::2]\n",
    "    \n",
    "    # Second Convolution Layer\n",
    "    convolution_pooling_op(second_kernel, second_pooling, reduced_wire_arr, STRIDE)\n",
    "    reduced_wire_arr = reduced_wire_arr[1::2, 1::2]\n",
    "    \n",
    "    # Fully Connected Layer\n",
    "    # fully_connected_op(fc_weights, fc_bias, reduced_wire_arr.flatten().tolist(), list(range(N*N, N*N + B)))\n",
    "    \n",
    "    # Measurement\n",
    "    return [qml.expval(qml.PauliZ(i)) for i in reduced_wire_arr.flatten().tolist()]"
   ]
  },
  {
   "cell_type": "code",
   "execution_count": 29,
   "id": "876abf89",
   "metadata": {
    "notebookRunGroups": {
     "groupValue": "2"
    }
   },
   "outputs": [
    {
     "data": {
      "text/plain": [
       "({'first_kernel': (8, TensorShape([2, 2, 2])),\n",
       "  'first_pooling': (4, TensorShape([2, 2])),\n",
       "  'second_kernel': (8, TensorShape([2, 2, 2])),\n",
       "  'second_pooling': (4, TensorShape([2, 2]))},\n",
       " <Quantum Keras Layer: func=qnode>)"
      ]
     },
     "execution_count": 29,
     "metadata": {},
     "output_type": "execute_result"
    }
   ],
   "source": [
    "weight_shapes = {\n",
    "    \"first_kernel\": (KERNEL_LAYERS, KERNEL_SIZE, KERNEL_SIZE),\n",
    "    \"first_pooling\": (KERNEL_SIZE, KERNEL_SIZE),\n",
    "    \"second_kernel\": (KERNEL_LAYERS, KERNEL_SIZE, KERNEL_SIZE),\n",
    "    \"second_pooling\": (KERNEL_SIZE, KERNEL_SIZE),\n",
    "    # \"fc_weights\": (B - 1, B),\n",
    "    # \"fc_bias\": (B,),\n",
    "}\n",
    "\n",
    "qlayer = qml.qnn.KerasLayer(qnode, weight_shapes, output_dim=(1,))\n",
    "{name: (reduce(operator.mul, x.shape), x.shape) for name, x in qlayer.qnode_weights.items()}, qlayer"
   ]
  },
  {
   "cell_type": "code",
   "execution_count": 30,
   "id": "60176fda",
   "metadata": {},
   "outputs": [],
   "source": [
    "model = tf.keras.Sequential([\n",
    "    tf.keras.layers.Input(shape=(2**(N * N),)),\n",
    "    qlayer,\n",
    "])\n",
    "# model.load_weights('line_model.keras')\n",
    "# model = torch.nn.Sequential(\n",
    "#     qlayer,\n",
    "#     # torch.nn.Lambda(prob_extraction),\n",
    "# )"
   ]
  },
  {
   "cell_type": "code",
   "execution_count": 31,
   "id": "3f558566",
   "metadata": {},
   "outputs": [
    {
     "data": {
      "text/html": [
       "<pre style=\"white-space:pre;overflow-x:auto;line-height:normal;font-family:Menlo,'DejaVu Sans Mono',consolas,'Courier New',monospace\"><span style=\"font-weight: bold\">Model: \"sequential_1\"</span>\n",
       "</pre>\n"
      ],
      "text/plain": [
       "\u001b[1mModel: \"sequential_1\"\u001b[0m\n"
      ]
     },
     "metadata": {},
     "output_type": "display_data"
    },
    {
     "data": {
      "text/html": [
       "<pre style=\"white-space:pre;overflow-x:auto;line-height:normal;font-family:Menlo,'DejaVu Sans Mono',consolas,'Courier New',monospace\">┏━━━━━━━━━━━━━━━━━━━━━━━━━━━━━━━━━┳━━━━━━━━━━━━━━━━━━━━━━━━┳━━━━━━━━━━━━━━━┓\n",
       "┃<span style=\"font-weight: bold\"> Layer (type)                    </span>┃<span style=\"font-weight: bold\"> Output Shape           </span>┃<span style=\"font-weight: bold\">       Param # </span>┃\n",
       "┡━━━━━━━━━━━━━━━━━━━━━━━━━━━━━━━━━╇━━━━━━━━━━━━━━━━━━━━━━━━╇━━━━━━━━━━━━━━━┩\n",
       "│ keras_layer_1 (<span style=\"color: #0087ff; text-decoration-color: #0087ff\">KerasLayer</span>)      │ (<span style=\"color: #00d7ff; text-decoration-color: #00d7ff\">None</span>, <span style=\"color: #00af00; text-decoration-color: #00af00\">1</span>)              │            <span style=\"color: #00af00; text-decoration-color: #00af00\">24</span> │\n",
       "└─────────────────────────────────┴────────────────────────┴───────────────┘\n",
       "</pre>\n"
      ],
      "text/plain": [
       "┏━━━━━━━━━━━━━━━━━━━━━━━━━━━━━━━━━┳━━━━━━━━━━━━━━━━━━━━━━━━┳━━━━━━━━━━━━━━━┓\n",
       "┃\u001b[1m \u001b[0m\u001b[1mLayer (type)                   \u001b[0m\u001b[1m \u001b[0m┃\u001b[1m \u001b[0m\u001b[1mOutput Shape          \u001b[0m\u001b[1m \u001b[0m┃\u001b[1m \u001b[0m\u001b[1m      Param #\u001b[0m\u001b[1m \u001b[0m┃\n",
       "┡━━━━━━━━━━━━━━━━━━━━━━━━━━━━━━━━━╇━━━━━━━━━━━━━━━━━━━━━━━━╇━━━━━━━━━━━━━━━┩\n",
       "│ keras_layer_1 (\u001b[38;5;33mKerasLayer\u001b[0m)      │ (\u001b[38;5;45mNone\u001b[0m, \u001b[38;5;34m1\u001b[0m)              │            \u001b[38;5;34m24\u001b[0m │\n",
       "└─────────────────────────────────┴────────────────────────┴───────────────┘\n"
      ]
     },
     "metadata": {},
     "output_type": "display_data"
    },
    {
     "data": {
      "text/html": [
       "<pre style=\"white-space:pre;overflow-x:auto;line-height:normal;font-family:Menlo,'DejaVu Sans Mono',consolas,'Courier New',monospace\"><span style=\"font-weight: bold\"> Total params: </span><span style=\"color: #00af00; text-decoration-color: #00af00\">24</span> (96.00 B)\n",
       "</pre>\n"
      ],
      "text/plain": [
       "\u001b[1m Total params: \u001b[0m\u001b[38;5;34m24\u001b[0m (96.00 B)\n"
      ]
     },
     "metadata": {},
     "output_type": "display_data"
    },
    {
     "data": {
      "text/html": [
       "<pre style=\"white-space:pre;overflow-x:auto;line-height:normal;font-family:Menlo,'DejaVu Sans Mono',consolas,'Courier New',monospace\"><span style=\"font-weight: bold\"> Trainable params: </span><span style=\"color: #00af00; text-decoration-color: #00af00\">24</span> (96.00 B)\n",
       "</pre>\n"
      ],
      "text/plain": [
       "\u001b[1m Trainable params: \u001b[0m\u001b[38;5;34m24\u001b[0m (96.00 B)\n"
      ]
     },
     "metadata": {},
     "output_type": "display_data"
    },
    {
     "data": {
      "text/html": [
       "<pre style=\"white-space:pre;overflow-x:auto;line-height:normal;font-family:Menlo,'DejaVu Sans Mono',consolas,'Courier New',monospace\"><span style=\"font-weight: bold\"> Non-trainable params: </span><span style=\"color: #00af00; text-decoration-color: #00af00\">0</span> (0.00 B)\n",
       "</pre>\n"
      ],
      "text/plain": [
       "\u001b[1m Non-trainable params: \u001b[0m\u001b[38;5;34m0\u001b[0m (0.00 B)\n"
      ]
     },
     "metadata": {},
     "output_type": "display_data"
    }
   ],
   "source": [
    "opt = tf.keras.optimizers.Adam(learning_rate=0.05)\n",
    "model.compile(opt, loss=\"MSE\", metrics=[custom_accuracy])\n",
    "model.summary()\n",
    "# summary(model, input_data=train_images[0:3, :], device=mps_device)"
   ]
  },
  {
   "cell_type": "code",
   "execution_count": 32,
   "id": "9b06efe3",
   "metadata": {},
   "outputs": [
    {
     "name": "stdout",
     "output_type": "stream",
     "text": [
      "Sample output shape: (7, 1)\n",
      "Sample output: [[ 0.00732702]\n",
      " [ 0.00977193]\n",
      " [-0.03465661]\n",
      " [ 0.01209684]\n",
      " [-0.00316553]\n",
      " [ 0.00942494]\n",
      " [ 0.00122862]] tf.Tensor([-1. -1.  1.  1.  1. -1.  1.], shape=(7,), dtype=float32)\n"
     ]
    }
   ],
   "source": [
    "# Test the forward pass with a batch of training images\n",
    "sample_output = model(train_images[21:21+7])  # Pass the first 3 training images\n",
    "print(\"Sample output shape:\", sample_output.shape)\n",
    "print(\"Sample output:\", sample_output.numpy(), train_labels[21:21+7])"
   ]
  },
  {
   "cell_type": "markdown",
   "id": "b9c4e01b",
   "metadata": {},
   "source": [
    "# Model Training"
   ]
  },
  {
   "cell_type": "code",
   "execution_count": 33,
   "id": "dd44fafe",
   "metadata": {},
   "outputs": [
    {
     "data": {
      "text/plain": [
       "(TensorShape([80, 65536]),\n",
       " TensorShape([80]),\n",
       " TensorShape([32, 65536]),\n",
       " TensorShape([32]))"
      ]
     },
     "execution_count": 33,
     "metadata": {},
     "output_type": "execute_result"
    }
   ],
   "source": [
    "BATCH_SIZE = 16\n",
    "remainder = train_images.shape[0] % BATCH_SIZE\n",
    "if remainder != 0:\n",
    "    train_images = train_images[:-remainder]\n",
    "    train_labels = train_labels[:-remainder]\n",
    "remainder2 = test_images.shape[0] % BATCH_SIZE\n",
    "if remainder2 != 0:\n",
    "    test_images = test_images[:-remainder2]\n",
    "    test_labels = test_labels[:-remainder2]\n",
    "train_images.shape, train_labels.shape, test_images.shape, test_labels.shape"
   ]
  },
  {
   "cell_type": "code",
   "execution_count": 34,
   "id": "b7c4a426",
   "metadata": {},
   "outputs": [
    {
     "name": "stdout",
     "output_type": "stream",
     "text": [
      "Epoch 1/4\n",
      "\u001b[1m5/5\u001b[0m \u001b[32m━━━━━━━━━━━━━━━━━━━━\u001b[0m\u001b[37m\u001b[0m \u001b[1m444s\u001b[0m 36s/step - custom_accuracy: 0.4859 - loss: 1.0027 - val_custom_accuracy: 0.6250 - val_loss: 0.9929\n",
      "Epoch 2/4\n",
      "\u001b[1m5/5\u001b[0m \u001b[32m━━━━━━━━━━━━━━━━━━━━\u001b[0m\u001b[37m\u001b[0m \u001b[1m104s\u001b[0m 21s/step - custom_accuracy: 0.6406 - loss: 0.9822 - val_custom_accuracy: 0.6562 - val_loss: 0.9760\n",
      "Epoch 3/4\n",
      "\u001b[1m5/5\u001b[0m \u001b[32m━━━━━━━━━━━━━━━━━━━━\u001b[0m\u001b[37m\u001b[0m \u001b[1m95s\u001b[0m 19s/step - custom_accuracy: 0.7113 - loss: 0.9744 - val_custom_accuracy: 0.7812 - val_loss: 0.9645\n",
      "Epoch 4/4\n",
      "\u001b[1m5/5\u001b[0m \u001b[32m━━━━━━━━━━━━━━━━━━━━\u001b[0m\u001b[37m\u001b[0m \u001b[1m87s\u001b[0m 18s/step - custom_accuracy: 0.7679 - loss: 0.9671 - val_custom_accuracy: 0.7812 - val_loss: 0.9538\n"
     ]
    }
   ],
   "source": [
    "silence_tensorflow(\"ERROR\")\n",
    "fitting = model.fit(train_images, train_labels, epochs=4, batch_size=BATCH_SIZE, validation_data=(test_images, test_labels), verbose=1, shuffle=True)"
   ]
  },
  {
   "cell_type": "code",
   "execution_count": null,
   "id": "fbf84bb4",
   "metadata": {},
   "outputs": [],
   "source": [
    "model.get_weights()[0]"
   ]
  },
  {
   "cell_type": "code",
   "execution_count": null,
   "id": "a1574328",
   "metadata": {},
   "outputs": [],
   "source": [
    "model.save(\"models/line_model.keras\")"
   ]
  },
  {
   "cell_type": "markdown",
   "id": "a3504614",
   "metadata": {},
   "source": [
    "# A Classical Model"
   ]
  },
  {
   "cell_type": "markdown",
   "id": "1797c8b1",
   "metadata": {},
   "source": []
  },
  {
   "cell_type": "code",
   "execution_count": null,
   "id": "7edea98d",
   "metadata": {},
   "outputs": [],
   "source": [
    "classic_model = tf.keras.Sequential([\n",
    "    tf.keras.layers.Input(shape=(N, N, 1)),\n",
    "    tf.keras.layers.Conv2D(2, kernel_size=KERNEL_SIZE, strides=STRIDE, use_bias=True, padding='SAME'),\n",
    "    tf.keras.layers.SeparableConv2D(1, kernel_size=KERNEL_SIZE, strides=STRIDE, use_bias=True, padding='SAME'),\n",
    "    tf.keras.layers.AveragePooling2D(pool_size=KERNEL_SIZE),\n",
    "    tf.keras.layers.Conv2D(2, kernel_size=KERNEL_SIZE, strides=STRIDE, use_bias=True, padding='SAME'),\n",
    "    tf.keras.layers.SeparableConv2D(1, kernel_size=KERNEL_SIZE, strides=STRIDE, use_bias=True, padding='SAME'),\n",
    "    tf.keras.layers.AveragePooling2D(pool_size=KERNEL_SIZE),\n",
    "    \n",
    "    tf.keras.layers.Flatten(),\n",
    "    \n",
    "    # tf.keras.layers.Dense(8, use_bias=True, activation='relu'),\n",
    "    # tf.keras.layers.Dense(8, use_bias=True, activation='relu'),\n",
    "    # tf.keras.layers.Dense(8, use_bias=True, activation='relu'),\n",
    "    # tf.keras.layers.Dense(1, use_bias=True, activation='sigmoid'),\n",
    "    \n",
    "    \n",
    "    tf.keras.layers.Activation('sigmoid'),\n",
    "])\n",
    "classic_model.summary()"
   ]
  },
  {
   "cell_type": "code",
   "execution_count": null,
   "id": "e81af4d8",
   "metadata": {},
   "outputs": [],
   "source": [
    "classic_labels = tf.where(train_labels > 0.5, 1.0, 0.0)\n",
    "classic_test_labels = tf.where(test_labels > 0.5, 1.0, 0.0)\n",
    "# classic_model(train_images[..., np.newaxis])"
   ]
  },
  {
   "cell_type": "code",
   "execution_count": null,
   "id": "abce5b50",
   "metadata": {},
   "outputs": [],
   "source": [
    "classic_opt = tf.keras.optimizers.Adagrad(learning_rate=0.025)\n",
    "classic_model.compile(classic_opt, loss=\"CrossEntropy\", metrics=[\"accuracy\"])"
   ]
  },
  {
   "cell_type": "code",
   "execution_count": null,
   "id": "79ba8399",
   "metadata": {},
   "outputs": [],
   "source": [
    "fitting = classic_model.fit(train_images, classic_labels, epochs=100, batch_size=16, validation_data=(test_images, classic_test_labels), verbose=0)"
   ]
  },
  {
   "cell_type": "code",
   "execution_count": null,
   "id": "dbf51f89",
   "metadata": {},
   "outputs": [],
   "source": [
    "val_loss, val_acc = classic_model.evaluate(test_images, classic_test_labels, verbose=1)"
   ]
  },
  {
   "cell_type": "markdown",
   "id": "730e02f0",
   "metadata": {},
   "source": [
    "# A Better Classical Model"
   ]
  },
  {
   "cell_type": "code",
   "execution_count": null,
   "id": "e0ca461e",
   "metadata": {},
   "outputs": [],
   "source": [
    "classic_model = tf.keras.Sequential([\n",
    "    tf.keras.layers.Input(shape=(N, N)),\n",
    "    # tf.keras.layers.Conv2D(4, kernel_size=4, strides=STRIDE, use_bias=True, padding='SAME'),\n",
    "    \n",
    "    tf.keras.layers.Flatten(),\n",
    "    \n",
    "    tf.keras.layers.Dense(8, use_bias=True, activation='relu'),\n",
    "    tf.keras.layers.Dense(8, use_bias=True, activation='relu'),\n",
    "    tf.keras.layers.Dense(8, use_bias=True, activation='relu'),\n",
    "    tf.keras.layers.Dense(1, use_bias=True, activation='sigmoid'),\n",
    "])\n",
    "classic_model.summary()"
   ]
  },
  {
   "cell_type": "code",
   "execution_count": null,
   "id": "8ca3afb5",
   "metadata": {},
   "outputs": [],
   "source": [
    "classic_labels = tf.where(train_labels > 0.5, 1.0, 0.0)\n",
    "classic_test_labels = tf.where(test_labels > 0.5, 1.0, 0.0)\n",
    "# classic_model(train_images[..., np.newaxis])"
   ]
  },
  {
   "cell_type": "code",
   "execution_count": null,
   "id": "6f797b78",
   "metadata": {},
   "outputs": [],
   "source": [
    "classic_opt = tf.keras.optimizers.Adagrad(learning_rate=0.025)\n",
    "classic_model.compile(classic_opt, loss=\"CrossEntropy\", metrics=[\"accuracy\"])"
   ]
  },
  {
   "cell_type": "code",
   "execution_count": null,
   "id": "dcffbef0",
   "metadata": {},
   "outputs": [],
   "source": [
    "fitting = classic_model.fit(train_images, classic_labels, epochs=100, batch_size=4, validation_data=(test_images, classic_test_labels), verbose=1)"
   ]
  },
  {
   "cell_type": "code",
   "execution_count": null,
   "id": "e4cf2f89",
   "metadata": {},
   "outputs": [],
   "source": [
    "val_loss, val_acc = classic_model.evaluate(test_images, classic_test_labels, verbose=1)"
   ]
  }
 ],
 "metadata": {
  "kernelspec": {
   "display_name": "Python 3",
   "language": "python",
   "name": "python3"
  },
  "language_info": {
   "codemirror_mode": {
    "name": "ipython",
    "version": 3
   },
   "file_extension": ".py",
   "mimetype": "text/x-python",
   "name": "python",
   "nbconvert_exporter": "python",
   "pygments_lexer": "ipython3",
   "version": "3.10.9"
  }
 },
 "nbformat": 4,
 "nbformat_minor": 5
}
