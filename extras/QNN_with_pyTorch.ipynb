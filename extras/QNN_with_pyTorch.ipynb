{
 "cells": [
  {
   "cell_type": "markdown",
   "id": "7ff240a8-f3ec-4796-b1c8-2973fbe938c5",
   "metadata": {},
   "source": [
    "## Hybrid quantum-classical Neural Networks \n",
    "\n",
    "\n",
    "**Procedure** &nbsp;\n",
    "Basically one or more hidden layers are being replaced by quantum circuits with tunable parameters; \n",
    "from its output a loss function is computed and optimized within the classical neural network code.\n",
    "The specific implementation depends on the chosen neural network model.\n",
    "\n",
    "A **neural network** is basically an elaborate function (<i>model</i>) composed of layers of small building blocks (<i>neurons</i>), \n",
    "which are typically simple, easy-to-compute, and nonlinear functions that map one or more inputs to a real number, which is fed as input into other neurons in subsequent layers. \n",
    "Graphically, we represent neurons as nodes in a graph with directed edges between nodes.\n",
    "Usually each edge is associated with a scalar-valued weight, such that each input to a neuron is multiplied by a different weight before being processed into a single output value. The objective of training a neural network is primarily choosing the weights such that the network behaves in a particular way.\n",
    "\n",
    "**Feed-Forward Neural Network (FFNN):** &nbsp; in this type of NN data flows from layer to layer without revisiting any neuron. Neurons within the same layer do not have edges between them. The graph describing such a neural network is a directed acyclic graph (DAG). <br>\n",
    "Gradient building within a FFNN is implemented as evaluating neurons for shifted parameters within a backpropagation routine. In case of a hidden quantum layer, this quantum circuit must be processed twice with shifted parameters: $\\nabla C_i(\\theta)=C_i(\\theta+s)-C_i(\\theta-s)$. \n"
   ]
  },
  {
   "cell_type": "code",
   "execution_count": 1,
   "id": "78a94ad1-0eec-4a43-b2b5-ce38c467960f",
   "metadata": {},
   "outputs": [
    {
     "name": "stdout",
     "output_type": "stream",
     "text": [
      "Qiskit version 1.4.2\n",
      "Torch version 2.6.0.dev20241112\n"
     ]
    },
    {
     "name": "stderr",
     "output_type": "stream",
     "text": [
      "/Users/addisonhanrattie/Downloads/QuantumBattleship.nosync/.conda/lib/python3.12/site-packages/torchvision/io/image.py:14: UserWarning: Failed to load image Python extension: 'dlopen(/Users/addisonhanrattie/Downloads/QuantumBattleship.nosync/.conda/lib/python3.12/site-packages/torchvision/image.so, 0x0006): Library not loaded: @rpath/libjpeg.9.dylib\n",
      "  Referenced from: <A09E200C-3620-3399-800F-6831D2DFDFC0> /Users/addisonhanrattie/Downloads/QuantumBattleship.nosync/.conda/lib/python3.12/site-packages/torchvision/image.so\n",
      "  Reason: tried: '/Users/addisonhanrattie/Downloads/QuantumBattleship.nosync/.conda/lib/python3.12/site-packages/torchvision/../../../libjpeg.9.dylib' (no such file), '/Users/addisonhanrattie/Downloads/QuantumBattleship.nosync/.conda/lib/python3.12/site-packages/torchvision/../../../libjpeg.9.dylib' (no such file), '/Users/addisonhanrattie/Downloads/QuantumBattleship.nosync/.conda/lib/python3.12/lib-dynload/../../libjpeg.9.dylib' (no such file), '/Users/addisonhanrattie/Downloads/QuantumBattleship.nosync/.conda/bin/../lib/libjpeg.9.dylib' (no such file)'If you don't plan on using image functionality from `torchvision.io`, you can ignore this warning. Otherwise, there might be something wrong with your environment. Did you have `libjpeg` or `libpng` installed before building `torchvision` from source?\n",
      "  warn(\n"
     ]
    },
    {
     "name": "stdout",
     "output_type": "stream",
     "text": [
      "tensor([1.], device='mps:0')\n"
     ]
    }
   ],
   "source": [
    "import qiskit\n",
    "print(\"Qiskit version\", qiskit.__version__)\n",
    "from qiskit import transpile\n",
    "from qiskit_aer import Aer\n",
    "from qiskit.visualization import plot_histogram\n",
    "\n",
    "import numpy as np\n",
    "import matplotlib.pyplot as plt\n",
    "\n",
    "import torch\n",
    "print(\"Torch version\", torch.__version__)\n",
    "from torch.autograd import Function\n",
    "from torch.utils.data import DataLoader\n",
    "from torchvision import datasets, transforms\n",
    "import torch.optim as optim\n",
    "import torch.nn as nn\n",
    "\n",
    "from warnings import filterwarnings\n",
    "filterwarnings(\"ignore\", category=DeprecationWarning)\n",
    "filterwarnings(\"ignore\", category=UserWarning)\n",
    "\n",
    "if torch.backends.mps.is_available():\n",
    "    mps_device = torch.device(\"mps\")\n",
    "    x = torch.ones(1, device=mps_device)\n",
    "    print (x)\n",
    "    # torch.set_default_device(mps_device)\n",
    "else:\n",
    "    print (\"MPS device not found.\")"
   ]
  },
  {
   "cell_type": "markdown",
   "id": "f70e8164-9c09-430f-b15f-130a40dcf6da",
   "metadata": {},
   "source": [
    "In order to integrate the quantum code into the pyTorch framework, we define the quantum circuit and its interface to pyTorch as classes. <br>\n",
    "This simple quantum circuit class implements the circuit $H^{\\otimes n} R_y^{\\otimes n}(\\theta)\\ M^{\\otimes n}$ where $M^{\\otimes n}=\\braket{Z\\otimes Z\\otimes\\dots\\otimes Z}$ is the measurement operator in the computational basis (it returns the sampling approximation to the expectation value of $Z$)."
   ]
  },
  {
   "cell_type": "code",
   "execution_count": 2,
   "id": "3b7b7872-4f82-46ae-ba53-602b9d013842",
   "metadata": {},
   "outputs": [],
   "source": [
    "## simple Circuit class to interface with the pyTorch model\n",
    "## quantum circuit: H(all_qubits) Ry(theta,all_qubits) \n",
    "class MyCircuit:    \n",
    "    def __init__(self, n_qubits, backend, shots):\n",
    "        # --- Circuit definition ---\n",
    "        self._circuit = qiskit.QuantumCircuit(n_qubits)\n",
    "        \n",
    "        all_qubits = list(range(n_qubits))\n",
    "        self.theta = qiskit.circuit.Parameter('theta')\n",
    "        \n",
    "        self._circuit.h(all_qubits)\n",
    "        self._circuit.barrier()\n",
    "        self._circuit.ry(self.theta, all_qubits)\n",
    "        \n",
    "        self._circuit.measure_all()\n",
    "        # ---------------------------\n",
    "\n",
    "        self.backend = backend\n",
    "        self.shots = shots\n",
    "    \n",
    "    def run(self, thetas):\n",
    "        if not isinstance(thetas, (list,tuple,np.ndarray)):\n",
    "            thetas = [thetas]\n",
    "        qc = self._circuit.assign_parameters({\"theta\": thetas[0]})\n",
    "        t_qc = transpile(qc, self.backend)\n",
    "        res = self.backend.run(t_qc, shots=self.shots).result().get_counts()        \n",
    "        counts = np.array(list(res.values()))\n",
    "        states = np.array(list(res.keys())).astype(float)\n",
    "        \n",
    "        # Compute probabilities for each state\n",
    "        probabilities = counts / self.shots\n",
    "        # Get state expectation\n",
    "        expectation = np.sum(states * probabilities)        \n",
    "        return np.array([expectation])\n"
   ]
  },
  {
   "cell_type": "code",
   "execution_count": 3,
   "id": "cd46624e-aaf6-4237-b5c0-f76c6a5bcf49",
   "metadata": {},
   "outputs": [
    {
     "name": "stdout",
     "output_type": "stream",
     "text": [
      "Expected value for rotation by pi: 5.666\n"
     ]
    },
    {
     "data": {
      "text/html": [
       "<pre style=\"word-wrap: normal;white-space: pre;background: #fff0;line-height: 1.1;font-family: &quot;Courier New&quot;,Courier,monospace\">        ┌───┐ ░ ┌───────────┐ ░ ┌─┐   \n",
       "   q_0: ┤ H ├─░─┤ Ry(theta) ├─░─┤M├───\n",
       "        ├───┤ ░ ├───────────┤ ░ └╥┘┌─┐\n",
       "   q_1: ┤ H ├─░─┤ Ry(theta) ├─░──╫─┤M├\n",
       "        └───┘ ░ └───────────┘ ░  ║ └╥┘\n",
       "meas: 2/═════════════════════════╩══╩═\n",
       "                                 0  1 </pre>"
      ],
      "text/plain": [
       "        ┌───┐ ░ ┌───────────┐ ░ ┌─┐   \n",
       "   q_0: ┤ H ├─░─┤ Ry(theta) ├─░─┤M├───\n",
       "        ├───┤ ░ ├───────────┤ ░ └╥┘┌─┐\n",
       "   q_1: ┤ H ├─░─┤ Ry(theta) ├─░──╫─┤M├\n",
       "        └───┘ ░ └───────────┘ ░  ║ └╥┘\n",
       "meas: 2/═════════════════════════╩══╩═\n",
       "                                 0  1 "
      ]
     },
     "execution_count": 3,
     "metadata": {},
     "output_type": "execute_result"
    }
   ],
   "source": [
    "circ = MyCircuit(2, Aer.get_backend('aer_simulator'), shots=1000)\n",
    "print(f'Expected value for rotation by pi: {circ.run([np.pi])[0]}')\n",
    "circ._circuit.draw()"
   ]
  },
  {
   "cell_type": "code",
   "execution_count": 4,
   "id": "9ee58c98-46de-46f7-bd30-1368b2fb3212",
   "metadata": {},
   "outputs": [],
   "source": [
    "class HybridFunction(Function):\n",
    "    \"\"\" Hybrid quantum - classical function definition \"\"\"\n",
    "    \n",
    "    @staticmethod\n",
    "    def forward(ctx, input, quantum_circuit, shift):\n",
    "        \"\"\" Forward pass computation \"\"\"\n",
    "        ctx.shift = shift\n",
    "        ctx.quantum_circuit = quantum_circuit\n",
    "\n",
    "        expectation_z = ctx.quantum_circuit.run(input[0].tolist())\n",
    "        result = torch.tensor([expectation_z], dtype=torch.float32, device=mps_device)\n",
    "        ctx.save_for_backward(input, result)\n",
    "\n",
    "        return result\n",
    "        \n",
    "    @staticmethod\n",
    "    def backward(ctx, grad_output):\n",
    "        \"\"\" Backward pass computation \"\"\"\n",
    "        input, expectation_z = ctx.saved_tensors\n",
    "        input_list = np.array(input.tolist())\n",
    "        \n",
    "        shift_right = input_list + np.ones(input_list.shape) * ctx.shift\n",
    "        shift_left = input_list - np.ones(input_list.shape) * ctx.shift\n",
    "        \n",
    "        gradients = [] # THIS WOULD BE PREALLOCATED\n",
    "        for i in range(len(input_list)):\n",
    "            expectation_right = ctx.quantum_circuit.run(shift_right[i])\n",
    "            expectation_left  = ctx.quantum_circuit.run(shift_left[i])\n",
    "            \n",
    "            gradient = torch.tensor([expectation_right], device=mps_device, dtype=torch.float32) - torch.tensor([expectation_left], device=mps_device, dtype=torch.float32)\n",
    "            gradients.append(gradient)\n",
    "        # gradients = np.array([gradients]).T\n",
    "        gradients = torch.tensor([gradients], device=mps_device).T\n",
    "        return torch.tensor([gradients], device=mps_device).float() * grad_output.float(), None, None\n",
    "\n",
    "class Hybrid(nn.Module):\n",
    "    \"\"\" Hybrid quantum - classical layer definition \"\"\"\n",
    "    \n",
    "    def __init__(self, backend, shots, shift):\n",
    "        super(Hybrid, self).__init__()\n",
    "        self.quantum_circuit = MyCircuit(1, backend, shots)\n",
    "        self.shift = shift\n",
    "        \n",
    "    def forward(self, input):\n",
    "        return HybridFunction.apply(input, self.quantum_circuit, self.shift)"
   ]
  },
  {
   "cell_type": "code",
   "execution_count": 5,
   "id": "869f1ab5-4a6b-4c9b-8793-cc5da8ee6f7e",
   "metadata": {},
   "outputs": [
    {
     "name": "stdout",
     "output_type": "stream",
     "text": [
      "Loaded 60000 images and labels\n"
     ]
    }
   ],
   "source": [
    "## initially load only the first 100 samples for two numbers\n",
    "n_samples = 100\n",
    "\n",
    "transform = transforms.Compose([\n",
    "    transforms.ToTensor(),\n",
    "    transforms.ConvertImageDtype(torch.float32)\n",
    "])\n",
    "\n",
    "labelA, labelB = 0,1\n",
    "np.random.seed(0)\n",
    "\n",
    "X_train = datasets.MNIST(root='/Users/addisonhanrattie/data', train=True, download=False,\n",
    "                         transform=transform, target_transform=None)\n",
    "print(f\"Loaded {len(X_train)} images and labels\")\n",
    "\n",
    "# Leaving only labels 0 and 1 \n",
    "idx = np.append(np.where(X_train.targets == labelA)[0][:n_samples], \n",
    "                np.where(X_train.targets == labelB)[0][:n_samples])\n",
    "\n",
    "X_train.data = X_train.data[idx]\n",
    "X_train.targets = X_train.targets[idx]\n",
    "\n",
    "train_loader = torch.utils.data.DataLoader(X_train, batch_size=1, shuffle=True)"
   ]
  },
  {
   "cell_type": "code",
   "execution_count": 6,
   "id": "25c0f1f5-886d-4ca7-abd7-e4c57da6f7b1",
   "metadata": {},
   "outputs": [],
   "source": [
    "n_samples_show = 6\n",
    "\n",
    "def plot_images(n_samples,  # number of images to plot\n",
    "                ncols=6,    # number of images in horizonal dir.\n",
    "                data=None,  # dataset (structure/class with attributes 'data' (or 'image') and 'target' (or 'label')\n",
    "                            #  default: if train_loader exist, use train_loader, otherwise X_train\n",
    "                **kwargs):\n",
    "    if data is not None:\n",
    "        try:\n",
    "            data_iter = iter(data)\n",
    "        except:\n",
    "            data = None\n",
    "    if data is None:\n",
    "        try:\n",
    "            data_iter = iter(train_loader)\n",
    "        except:\n",
    "            data_iter = iter(X_train)\n",
    "    if n_samples <= ncols:\n",
    "        ncols = n_samples\n",
    "    nrows = int(np.ceil(n_samples/ncols))\n",
    "    if \"figsize\" in kwargs.keys():\n",
    "        myfigsize = kwargs[\"figsize\"]\n",
    "        del kwargs[\"figsize\"]\n",
    "    else:\n",
    "        myfigsize = (2*ncols, 1+2*nrows)    \n",
    "    fig,axes = plt.subplots(nrows=nrows,ncols=ncols,figsize=myfigsize, **kwargs)\n",
    "    axes = axes.ravel()\n",
    "    for n in range(n_samples):\n",
    "        data, target = data_iter.__next__()\n",
    "        if not isinstance(target, (int, str, float)):\n",
    "            target = target.item()\n",
    "        axes[n].imshow(data[0].numpy().squeeze(), cmap='gray')\n",
    "        axes[n].set_xticks([])\n",
    "        axes[n].set_yticks([])\n",
    "        axes[n].set_title(\"Labeled: {}\".format(target))\n",
    "    for n in range(n_samples, ncols*nrows):\n",
    "        axes[n].plot()\n",
    "        axes[n].axis('off')\n",
    "        axes[n].set_xticks([])\n",
    "        axes[n].set_yticks([])\n",
    "    plt.tight_layout()\n",
    "    plt.show\n",
    "\n",
    "plot_images(n_samples_show, 5)"
   ]
  },
  {
   "cell_type": "code",
   "execution_count": 7,
   "id": "45eba4a4-3b15-4675-bf30-5a8de7fea835",
   "metadata": {},
   "outputs": [],
   "source": [
    "n_samples = 50\n",
    "\n",
    "X_test = datasets.MNIST(root='~/data', train=False, download=False,\n",
    "                        transform=transform)\n",
    "\n",
    "idx = np.append(np.where(X_test.targets == labelA)[0][:n_samples], \n",
    "                np.where(X_test.targets == labelB)[0][:n_samples])\n",
    "\n",
    "X_test.data = X_test.data[idx]\n",
    "X_test.targets = X_test.targets[idx]\n",
    "\n",
    "test_loader = torch.utils.data.DataLoader(X_test, batch_size=1, shuffle=True)"
   ]
  },
  {
   "cell_type": "code",
   "execution_count": 8,
   "id": "509549a0-e3ad-4ec4-b8c5-2b5c4d6dce99",
   "metadata": {},
   "outputs": [],
   "source": [
    "class Net(nn.Module):\n",
    "    def __init__(self):\n",
    "        super(Net, self).__init__()\n",
    "        self.conv1 = nn.Conv2d(1, 6, kernel_size=5)\n",
    "        self.conv2 = nn.Conv2d(6, 16, kernel_size=5)\n",
    "        self.dropout = nn.Dropout2d()\n",
    "        self.fc1 = nn.Linear(256, 64)\n",
    "        self.fc2 = nn.Linear(64, 1)\n",
    "        self.hybrid = Hybrid(Aer.get_backend('aer_simulator'), 100, np.pi / 2)\n",
    "\n",
    "    def forward(self, x):\n",
    "        x = nn.functional.relu(self.conv1(x))\n",
    "        x = nn.functional.max_pool2d(x, 2)\n",
    "        x = nn.functional.relu(self.conv2(x))\n",
    "        x = nn.functional.max_pool2d(x, 2)\n",
    "        x = self.dropout(x)\n",
    "        x = x.view(1, -1)\n",
    "        x = nn.functional.relu(self.fc1(x))\n",
    "        x = self.fc2(x)\n",
    "        x = self.hybrid(x)\n",
    "        return torch.cat((x, 1 - x), -1)\n"
   ]
  },
  {
   "cell_type": "code",
   "execution_count": 10,
   "id": "34ce3a89-af0e-4802-9350-c3b91d64d922",
   "metadata": {},
   "outputs": [
    {
     "name": "stdout",
     "output_type": "stream",
     "text": [
      "Training [5%]\tLoss: -0.8081\n",
      "Training [10%]\tLoss: -0.9277\n",
      "Training [15%]\tLoss: -0.9244\n",
      "Training [20%]\tLoss: -0.9424\n",
      "Training [25%]\tLoss: -0.9411\n",
      "Training [30%]\tLoss: -0.9511\n",
      "Training [35%]\tLoss: -0.9657\n",
      "Training [40%]\tLoss: -0.9652\n",
      "Training [45%]\tLoss: -0.9687\n",
      "Training [50%]\tLoss: -0.9750\n",
      "Training [55%]\tLoss: -0.9768\n",
      "Training [60%]\tLoss: -0.9801\n",
      "Training [65%]\tLoss: -0.9815\n",
      "Training [70%]\tLoss: -0.9842\n",
      "Training [75%]\tLoss: -0.9822\n",
      "Training [80%]\tLoss: -0.9853\n",
      "Training [85%]\tLoss: -0.9882\n",
      "Training [90%]\tLoss: -0.9881\n",
      "Training [95%]\tLoss: -0.9899\n",
      "Training [100%]\tLoss: -0.9906\n"
     ]
    }
   ],
   "source": [
    "model = Net()\n",
    "model = model.to(mps_device)\n",
    "optimizer = optim.Adam(model.parameters(), lr=0.001)\n",
    "loss_func = nn.NLLLoss()\n",
    "loss_func = loss_func.to(mps_device)\n",
    "loss = torch.tensor([0]).to(mps_device)\n",
    "output = torch.tensor([0]).to(mps_device)\n",
    "\n",
    "torch.set_default_dtype(torch.float32)\n",
    "# torch.set_default_device(mps_device)\n",
    "\n",
    "epochs = 20\n",
    "loss_list = []\n",
    "\n",
    "model.train()\n",
    "for epoch in range(epochs):\n",
    "    total_loss = []\n",
    "    i = 0\n",
    "    for data, target in train_loader:\n",
    "        data, target = data.to(mps_device), target.to(mps_device)\n",
    "        optimizer.zero_grad()\n",
    "        # Forward pass\n",
    "        output = model(data)\n",
    "        # Calculating loss\n",
    "        loss = loss_func(output, target)\n",
    "        # Backward pass\n",
    "        loss.backward()\n",
    "        # Optimize the weights\n",
    "        optimizer.step()\n",
    "\n",
    "        # print(i)\n",
    "        total_loss.append(loss.item())\n",
    "        i += 1\n",
    "    loss_list.append(sum(total_loss)/len(total_loss))\n",
    "    print('Training [{:.0f}%]\\tLoss: {:.4f}'.format(100. * (epoch + 1) / epochs, loss_list[-1]))"
   ]
  },
  {
   "cell_type": "code",
   "execution_count": 13,
   "id": "8f0872d2",
   "metadata": {},
   "outputs": [
    {
     "data": {
      "text/plain": [
       "tensor(-0.9800, device='mps:0', grad_fn=<NllLossBackward0>)"
      ]
     },
     "execution_count": 13,
     "metadata": {},
     "output_type": "execute_result"
    }
   ],
   "source": [
    "loss"
   ]
  },
  {
   "cell_type": "code",
   "execution_count": 16,
   "id": "45fdaf81-fa60-4a74-94be-bdbfeddeeef0",
   "metadata": {},
   "outputs": [
    {
     "data": {
      "image/png": "[encoded data removed]",
      "text/plain": [
       "<Figure size 640x480 with 1 Axes>"
      ]
     },
     "metadata": {},
     "output_type": "display_data"
    }
   ],
   "source": [
    "plt.plot(loss_list)\n",
    "plt.title('Hybrid NN Training Convergence')\n",
    "plt.xlabel('Training Iterations')\n",
    "plt.ylabel('Neg Log Likelihood Loss')\n",
    "plt.show()"
   ]
  },
  {
   "cell_type": "code",
   "execution_count": 26,
   "id": "b4579717-c572-4cd0-a01a-b8c1714e7e36",
   "metadata": {},
   "outputs": [
    {
     "name": "stdout",
     "output_type": "stream",
     "text": [
      "Performance on test data:\n",
      "\tLoss: -0.9854\n",
      "\tAccuracy: 100.0%\n"
     ]
    }
   ],
   "source": [
    "model.eval()\n",
    "with torch.no_grad():\n",
    "    correct = 0\n",
    "    for batch_idx, (data, target) in enumerate(test_loader):\n",
    "        data, target = data.to(mps_device), target.to(mps_device)\n",
    "        output = model(data)\n",
    "        \n",
    "        pred = output.argmax(dim=1, keepdim=True) \n",
    "        correct += pred.eq(target.view_as(pred)).sum().item()\n",
    "        \n",
    "        loss = loss_func(output, target)\n",
    "        total_loss.append(loss.item())\n",
    "        \n",
    "    print('Performance on test data:\\n\\tLoss: {:.4f}\\n\\tAccuracy: {:.1f}%'.format(\n",
    "        sum(total_loss) / len(total_loss), correct / len(test_loader) * 100) )"
   ]
  },
  {
   "cell_type": "code",
   "execution_count": 37,
   "id": "8b171cba-ebd1-4298-b1da-440b4f52b295",
   "metadata": {},
   "outputs": [],
   "source": [
    "n_samples_show = 12\n",
    "count = 0\n",
    "fig, axes = plt.subplots(nrows=1, ncols=n_samples_show, figsize=(10, 3))\n",
    "\n",
    "model.eval()\n",
    "with torch.no_grad():\n",
    "    for batch_idx, (data, target) in enumerate(test_loader):\n",
    "        if count == n_samples_show:\n",
    "            break\n",
    "        data, target = data.to(mps_device), target.to(mps_device)\n",
    "        \n",
    "        output = model(data)\n",
    "        \n",
    "        pred = output.argmax(dim=1, keepdim=True) \n",
    "\n",
    "        axes[count].imshow(data[0].cpu().numpy().squeeze(), cmap='gray')\n",
    "\n",
    "        axes[count].set_xticks([])\n",
    "        axes[count].set_yticks([])\n",
    "        axes[count].set_title('Predicted {}'.format(pred.item()))\n",
    "        \n",
    "        count += 1"
   ]
  },
  {
   "cell_type": "code",
   "execution_count": 38,
   "id": "64e6f1be-f86d-4840-8f9c-b894e7628089",
   "metadata": {},
   "outputs": [
    {
     "data": {
      "image/png": "[encoded data removed]",
      "text/plain": [
       "<Figure size 1000x300 with 12 Axes>"
      ]
     },
     "metadata": {},
     "output_type": "display_data"
    }
   ],
   "source": [
    "plt.show()"
   ]
  }
 ],
 "metadata": {
  "kernelspec": {
   "display_name": "Python 3",
   "language": "python",
   "name": "python3"
  },
  "language_info": {
   "codemirror_mode": {
    "name": "ipython",
    "version": 3
   },
   "file_extension": ".py",
   "mimetype": "text/x-python",
   "name": "python",
   "nbconvert_exporter": "python",
   "pygments_lexer": "ipython3",
   "version": "3.12.2"
  }
 },
 "nbformat": 4,
 "nbformat_minor": 5
}
