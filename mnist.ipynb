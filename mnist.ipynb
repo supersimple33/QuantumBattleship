{
 "cells": [
  {
   "cell_type": "code",
   "execution_count": 1,
   "id": "0d495a3b",
   "metadata": {},
   "outputs": [],
   "source": [
    "import pennylane as qml\n",
    "from pennylane import numpy as np\n",
    "import tensorflow as tf\n",
    "from tensorflow import keras\n",
    "import matplotlib.pyplot as plt\n",
    "from sklearn.model_selection import train_test_split"
   ]
  },
  {
   "cell_type": "code",
   "execution_count": 2,
   "id": "dd3203f7",
   "metadata": {},
   "outputs": [],
   "source": [
    "from src.model import convolution_op, pooling_op, fully_connected_op"
   ]
  },
  {
   "cell_type": "code",
   "execution_count": 3,
   "id": "bab1d501",
   "metadata": {},
   "outputs": [],
   "source": [
    "np.random.seed(42)\n",
    "tf.random.set_seed(42)"
   ]
  },
  {
   "cell_type": "markdown",
   "id": "99c74b30",
   "metadata": {},
   "source": [
    "# Data Generation"
   ]
  },
  {
   "cell_type": "code",
   "execution_count": 4,
   "id": "334f9ab3",
   "metadata": {},
   "outputs": [],
   "source": [
    "def generate_dataset(num_images: int, size: int = 4, noise: float = 0.2):\n",
    "    \"\"\"Generate a vertical or horizontal line on the grid and then add noise in to it\"\"\"\n",
    "    images = []\n",
    "    labels = []\n",
    "    \n",
    "    for i in range(num_images):\n",
    "        # Create a blank image\n",
    "        image = np.zeros((size, size), dtype=np.uint16)\n",
    "        # Randomly choose a line orientation\n",
    "        if np.random.rand() > 0.5:\n",
    "            # Vertical line\n",
    "            x = np.random.randint(0, size)\n",
    "            image[:, x] = 255\n",
    "            labels.append(1)  # Label for vertical line\n",
    "        else:\n",
    "            # Horizontal line\n",
    "            y = np.random.randint(0, size)\n",
    "            image[y, :] = 255\n",
    "            labels.append(0)\n",
    "        \n",
    "        # Add noise to the image\n",
    "        noise_matrix = np.random.normal(0, noise * 255, (size, size))\n",
    "        image = np.clip(image + noise_matrix, 0.0, 255.0)\n",
    "        images.append(image.astype(np.float32) / 255.0)\n",
    "    \n",
    "    return np.array(images), np.array(labels)"
   ]
  },
  {
   "cell_type": "code",
   "execution_count": 5,
   "id": "43399685",
   "metadata": {},
   "outputs": [],
   "source": [
    "images, labels = generate_dataset(50, noise=0.1)\n",
    "\n",
    "train_images, test_images, train_labels, test_labels = train_test_split(\n",
    "    images, labels, test_size=0.3, random_state=42\n",
    ")"
   ]
  },
  {
   "cell_type": "code",
   "execution_count": 6,
   "id": "d5f9a199",
   "metadata": {},
   "outputs": [
    {
     "data": {
      "image/png": "[encoded data removed]",
      "text/plain": [
       "<Figure size 1000x500 with 10 Axes>"
      ]
     },
     "metadata": {},
     "output_type": "display_data"
    }
   ],
   "source": [
    "plt.figure(figsize=(10, 5))\n",
    "for i in range(10):\n",
    "    plt.subplot(2, 5, i + 1)\n",
    "    plt.imshow(train_images[i].reshape(train_images.shape[1], train_images.shape[2]), cmap='gray')\n",
    "    plt.title(f\"Label: {'Horizontal' if train_labels[i] == 0 else 'Vertical'}\")\n",
    "    plt.axis('off')\n",
    "plt.tight_layout()\n",
    "plt.show()"
   ]
  },
  {
   "cell_type": "markdown",
   "id": "f5e6e2eb",
   "metadata": {},
   "source": [
    "# Creating Circuit"
   ]
  },
  {
   "cell_type": "code",
   "execution_count": null,
   "id": "d7ac6339",
   "metadata": {},
   "outputs": [],
   "source": [
    "assert train_images.shape[1] == train_images.shape[2], \"Images must be square\"\n",
    "N = train_images.shape[1]\n",
    "dev = qml.device(\"default.qubit\", wires=N * N)\n",
    "wire_arr = np.arange(N * N).reshape(N, N)\n",
    "\n",
    "KERNEL_SIZE = 2\n",
    "KERNEL_LAYERS = 2\n",
    "STRIDE = 2"
   ]
  },
  {
   "cell_type": "code",
   "execution_count": null,
   "id": "c24c6c60",
   "metadata": {},
   "outputs": [],
   "source": [
    "@qml.qnode(dev)\n",
    "def circuit(phi: np.ndarray):\n",
    "    # First Convolution Layer\n",
    "    \n",
    "    first_kernel = phi[:KERNEL_SIZE * KERNEL_SIZE * KERNEL_LAYERS]\n",
    "    # for i in range(0, N, KERNEL_SIZE):\n",
    "    #     for j in range(0, N, KERNEL_SIZE):\n",
    "    #         convolution_op(\n",
    "    #             first_kernel,\n",
    "    #             wire_arr[i:i + KERNEL_SIZE, j:j + KERNEL_SIZE].flatten()\n",
    "    #         )\n",
    "    for k in range(0, KERNEL_SIZE, STRIDE):\n",
    "        for l in range(0, KERNEL_SIZE, STRIDE):\n",
    "            for i in range(0, N, KERNEL_SIZE):\n",
    "                for j in range(0, N, KERNEL_SIZE):\n",
    "                    convolution_op(\n",
    "                        first_kernel,\n",
    "                        wire_arr.take(range(i+k,i+KERNEL_SIZE+k),mode='wrap', axis=0).take(range(j+l,j+KERNEL_SIZE+k),mode='wrap',axis=1).flatten()\n",
    "                    )\n",
    "    \n",
    "    first_pooling = phi[KERNEL_SIZE * KERNEL_SIZE * KERNEL_LAYERS:KERNEL_SIZE * KERNEL_SIZE * KERNEL_LAYERS + KERNEL_SIZE]\n",
    "    for i in range(0, N, KERNEL_SIZE):\n",
    "        for j in range(0, N, KERNEL_SIZE):\n",
    "            pooling_op(\n",
    "                first_pooling,\n",
    "                wire_arr[i:i + KERNEL_SIZE, j:j + KERNEL_SIZE].flatten()\n",
    "            )"
   ]
  },
  {
   "cell_type": "code",
   "execution_count": 21,
   "id": "478e0e96",
   "metadata": {},
   "outputs": [
    {
     "data": {
      "text/plain": [
       "tensor([[0, 1],\n",
       "        [4, 5]], requires_grad=True)"
      ]
     },
     "execution_count": 21,
     "metadata": {},
     "output_type": "execute_result"
    }
   ],
   "source": [
    "# demo grabbing top corner\n",
    "\n",
    "wire_arr.take(range(0,2),mode='wrap', axis=0).take(range(0,2),mode='wrap',axis=1)"
   ]
  }
 ],
 "metadata": {
  "kernelspec": {
   "display_name": "Python 3",
   "language": "python",
   "name": "python3"
  },
  "language_info": {
   "codemirror_mode": {
    "name": "ipython",
    "version": 3
   },
   "file_extension": ".py",
   "mimetype": "text/x-python",
   "name": "python",
   "nbconvert_exporter": "python",
   "pygments_lexer": "ipython3",
   "version": "3.10.9"
  }
 },
 "nbformat": 4,
 "nbformat_minor": 5
}
