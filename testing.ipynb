{
 "cells": [
  {
   "cell_type": "markdown",
   "id": "5067333c",
   "metadata": {},
   "source": [
    "# Quantum Battleship"
   ]
  },
  {
   "cell_type": "code",
   "execution_count": 3,
   "id": "c4044568",
   "metadata": {},
   "outputs": [],
   "source": [
    "import pennylane as qml\n",
    "from pennylane import numpy as np\n",
    "import gymnasium"
   ]
  }
 ],
 "metadata": {
  "kernelspec": {
   "display_name": "Python 3",
   "language": "python",
   "name": "python3"
  },
  "language_info": {
   "codemirror_mode": {
    "name": "ipython",
    "version": 3
   },
   "file_extension": ".py",
   "mimetype": "text/x-python",
   "name": "python",
   "nbconvert_exporter": "python",
   "pygments_lexer": "ipython3",
   "version": "3.12.2"
  }
 },
 "nbformat": 4,
 "nbformat_minor": 5
}
